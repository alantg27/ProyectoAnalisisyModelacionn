{
 "cells": [
  {
   "cell_type": "code",
   "execution_count": 66,
   "metadata": {},
   "outputs": [
    {
     "name": "stdout",
     "output_type": "stream",
     "text": [
      "AT-CGA-T-CG\n",
      "-GCT-A-GCTA\n",
      "TAC-GT-A-CG\n",
      "\n",
      "AT-CGAT-CG\n",
      "-GCT-AGCTA\n",
      "TAC-GTA-CG\n",
      "Puntos: 7\n"
     ]
    }
   ],
   "source": [
    "import random\n",
    "\n",
    "# Declaración de las variables string\n",
    "X = \"ATCGATCG\"\n",
    "Y = \"GCTAGCTA\"\n",
    "Z = \"TACGTACG\"\n",
    "\n",
    "# Crear una matriz con las tres variables\n",
    "matriz = [X, Y, Z]\n",
    "\n",
    "# Función para insertar guiones en posiciones aleatorias\n",
    "def insertar_guiones(cadena):\n",
    "    for _ in range(3):\n",
    "        posicion = random.randint(0, len(cadena) - 1)\n",
    "        cadena = cadena[:posicion] + '-' + cadena[posicion:]\n",
    "    return cadena\n",
    "#Sin extremos\n",
    "def insertar_guiones_no_extremos(cadena):\n",
    "    for _ in range(3):\n",
    "        # Seleccionar una posición aleatoria dentro del rango que no incluya el inicio ni el final\n",
    "        posicion = random.randint(1, len(cadena) - 2)\n",
    "        cadena = cadena[:posicion] + '-' + cadena[posicion+1:]\n",
    "    return cadena\n",
    "\n",
    "\n",
    "# Insertar guiones en cada cadena de la matriz\n",
    "matriz_con_guiones = [insertar_guiones(cadena) for cadena in matriz]\n",
    "\n",
    "# Obtener la longitud de las filas para determinar el rango de iteración\n",
    "longitud_fila = len(matriz_con_guiones[0])\n",
    "\n",
    "# Crear una lista para almacenar las columnas que no son solo guiones\n",
    "columnas_sin_guiones = []\n",
    "\n",
    "# Iterar sobre cada columna\n",
    "for i in range(longitud_fila):\n",
    "    # Obtener los elementos en la columna actual\n",
    "    columna_actual = [fila[i] for fila in matriz_con_guiones]\n",
    "    # Verificar si todos los elementos en la columna son guiones\n",
    "    if all(caracter == '-' for caracter in columna_actual):\n",
    "        continue  # Si todos los elementos son guiones, omitir esta columna\n",
    "    else:\n",
    "        # Agregar esta columna a la lista de columnas sin guiones\n",
    "        columnas_sin_guiones.append(columna_actual)\n",
    "\n",
    "# Transponer la lista de columnas sin guiones para obtener la matriz resultante\n",
    "matriz_sin_guiones = list(zip(*columnas_sin_guiones))\n",
    "\n",
    "# Inicializar el contador de puntos\n",
    "puntos = 0\n",
    "\n",
    "# Comparar los caracteres en cada posición de las filas\n",
    "for i in range(len(matriz_sin_guiones[0])):\n",
    "    caracteres_en_posicion = [fila[i] for fila in matriz_sin_guiones]\n",
    "    caracteres_diferentes = set(caracteres_en_posicion) - {'-'}  # Excluir guiones de la comparación\n",
    "    if len(caracteres_diferentes) >= 2:\n",
    "        puntos += 1\n",
    "print(\"Matriz con guiones:\")\n",
    "for fila in matriz_con_guiones:\n",
    "    print(''.join(fila))\n",
    "print()\n",
    "# Imprimir la matriz resultante\n",
    "for fila in matriz_sin_guiones:\n",
    "    print(''.join(fila))\n",
    "\n",
    "print(\"Puntos:\", puntos)\n",
    "\n",
    "\n",
    "\n"
   ]
  }
 ],
 "metadata": {
  "kernelspec": {
   "display_name": "Python 3",
   "language": "python",
   "name": "python3"
  },
  "language_info": {
   "codemirror_mode": {
    "name": "ipython",
    "version": 3
   },
   "file_extension": ".py",
   "mimetype": "text/x-python",
   "name": "python",
   "nbconvert_exporter": "python",
   "pygments_lexer": "ipython3",
   "version": "3.11.9"
  }
 },
 "nbformat": 4,
 "nbformat_minor": 2
}
